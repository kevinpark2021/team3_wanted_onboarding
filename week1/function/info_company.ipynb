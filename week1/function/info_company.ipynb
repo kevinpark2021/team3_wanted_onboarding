{
 "cells": [
  {
   "cell_type": "markdown",
   "id": "8b7460f9-49c2-45ac-9275-1d4ea4d58373",
   "metadata": {},
   "source": [
    "## 특정 회사의 코드를 넣었을 때 기본적인 정보를 출력하기 위한 전처리과정\n",
    "\n",
    "### loc[\"회사ID\"] - 회사ID 부분에 원하는 회사ID를 넣으시면 됩니다.\n",
    "*TODO: info_comany() 함수로 만들기*"
   ]
  },
  {
   "cell_type": "code",
   "execution_count": null,
   "id": "a0e64ef9-24c8-46f0-ae00-2a73e31b52ff",
   "metadata": {},
   "outputs": [],
   "source": [
    "import pandas as pd"
   ]
  },
  {
   "cell_type": "code",
   "execution_count": null,
   "id": "82dec794-a3d6-4e35-aa55-e8fbca26a456",
   "metadata": {},
   "outputs": [],
   "source": [
    "data = pd.read_csv(\"./company_nps_data.csv\")"
   ]
  },
  {
   "cell_type": "code",
   "execution_count": null,
   "id": "0b7ce936-e479-475a-80ce-17955864e130",
   "metadata": {},
   "outputs": [],
   "source": [
    "# describe() 지수표기법 해제 == 숫자로만 나오게 세팅 \n",
    "pd.set_option('float_format', '{:f}'.format)"
   ]
  },
  {
   "cell_type": "code",
   "execution_count": null,
   "id": "e0699338-ce25-4b95-a407-8a2de1806dfc",
   "metadata": {},
   "outputs": [],
   "source": [
    "# 회사ID 열을 인덱스로 지정\n",
    "company = data.set_index('회사ID')"
   ]
  },
  {
   "cell_type": "code",
   "execution_count": null,
   "id": "76088032-387a-49c4-9bf5-8994b7ca5320",
   "metadata": {},
   "outputs": [],
   "source": [
    "# 특정 회사의 코드를 입력하면 연도와 월을 오름차순으로 정렬해서 출력\n",
    "company.loc[342124].sort_values(by=['년도','월'])"
   ]
  },
  {
   "cell_type": "code",
   "execution_count": null,
   "id": "11127789-826c-45d6-9650-d49473cc2817",
   "metadata": {},
   "outputs": [],
   "source": [
    "# 특정 회사의 종합적인 정보 출력\n",
    "company.loc[342124].describe()"
   ]
  },
  {
   "cell_type": "code",
   "execution_count": null,
   "id": "df7f3f66-a71c-4ca3-a0a0-663aa7ff28ad",
   "metadata": {},
   "outputs": [],
   "source": [
    "# 특정 회사의 요소간 상관관계 정보 출력\n",
    "company.loc[342124].corr()"
   ]
  }
 ],
 "metadata": {
  "kernelspec": {
   "display_name": "Python 3",
   "language": "python",
   "name": "python3"
  },
  "language_info": {
   "codemirror_mode": {
    "name": "ipython",
    "version": 3
   },
   "file_extension": ".py",
   "mimetype": "text/x-python",
   "name": "python",
   "nbconvert_exporter": "python",
   "pygments_lexer": "ipython3",
   "version": "3.9.4"
  }
 },
 "nbformat": 4,
 "nbformat_minor": 5
}
