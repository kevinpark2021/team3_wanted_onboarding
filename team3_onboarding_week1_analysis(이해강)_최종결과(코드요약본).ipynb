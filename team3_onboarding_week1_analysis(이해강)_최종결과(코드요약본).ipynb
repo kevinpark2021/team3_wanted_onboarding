{
 "cells": [
  {
   "cell_type": "markdown",
   "metadata": {},
   "source": [
    "# 1. 연매출액 관련 Feature 분석 (이해강)\n",
    "- 1) 기업별 연매출액 평균 TOP50\n",
    "- 2) 기업별 연매출액 연평균 성장률 TOP50"
   ]
  },
  {
   "cell_type": "code",
   "execution_count": 120,
   "metadata": {},
   "outputs": [],
   "source": [
    "# 필요한 라이브러리 import\n",
    "import pandas as pd\n",
    "import matplotlib.pyplot as plt\n",
    "import numpy as np\n",
    "\n",
    "# 경고창 무시\n",
    "import warnings\n",
    "warnings.filterwarnings(action='ignore')\n",
    "\n",
    "# matplotlib 한글 폰트 오류 해결\n",
    "import platform\n",
    "from matplotlib import font_manager, rc\n",
    "plt.rcParams['axes.unicode_minus'] = False\n",
    "\n",
    "if platform.system() == 'Darwin':\n",
    "    rc('font', family='appleGothic')\n",
    "elif platform.system() == 'Windows':\n",
    "    path = \"c:/Windows/Fonts/malgun.ttf\"\n",
    "    font_name = font_manager.FontProperties(fname=path).get_name()\n",
    "    rc('font', family=font_name)\n",
    "else:\n",
    "    print('Unknown system.... sorry.....')"
   ]
  },
  {
   "cell_type": "code",
   "execution_count": 158,
   "metadata": {
    "scrolled": false
   },
   "outputs": [],
   "source": [
    "# 데이터 불러오기\n",
    "df = pd.read_csv('company_nps_data.csv',encoding='ansi')\n",
    "\n",
    "# 피벗 테이블로 '연매출액','회사ID','년도' 만 포함된 데이터프레임 생성\n",
    "ndf = df.pivot_table('연매출액','회사ID','년도')\n",
    "\n",
    "# 인덱스와 컬럼 자료형 변환\n",
    "ndf.index = ndf.index.map(lambda x : str(x))\n",
    "ndf.columns = ndf.columns.map(lambda x : str(x))\n",
    "\n",
    "# '연평균 성장률' 변수 중 기간(n)을 구하기\n",
    "# '기간'이라는 칼럼 생성 후 임의의 값 부여\n",
    "ndf['기간'] = 0\n",
    "\n",
    "# 한 행씩 접근하며 널값이 아닌 데이터들의 개수를 세서 '기간' 칼럼에 저장\n",
    "# 그 후 2를 빼줌( \"notnull()로 세어진'기간'칼럼\" 과 \"두 연도의 차이\" )   \n",
    "for i in range(len(ndf)):\n",
    "    ndf['기간'][i] = ndf.iloc[i].notnull().sum()-2\n",
    "\n",
    "# 연매출액 평균 구하기\n",
    "ndf1 = ndf[ndf['기간']!=0]\n",
    "ndf1 = ndf1.replace(np.nan,0)\n",
    "ndf1['평균연매출액'] = (ndf1['2015']+ndf1['2016']+ndf1['2017']+ndf1['2018']+ndf1['2019'])/(ndf1['기간']+1)\n",
    "평균연매출액TOP500 = ndf1['평균연매출액'].sort_values(ascending=False).head(500)\n",
    "\n",
    "# 연매출액 연평균 성장률을 구하기 위해 2015년과 2019를 기준으로 결측치들을 앞과 뒤의 값들로 채워줌 (기간을 미리구해놨기 때문에 가능)\n",
    "# '기간' 칼럼 제외한 새로운 데이터프레임으로 복사 (연도의 널값을 채워주기 위해) \n",
    "ndf1 = ndf[['2015','2016','2017','2018','2019']]\n",
    "\n",
    "# 계산의 편의상 시작값(2015로)과 종료값(2019로)을 맞춰주기 위해 널값 채우기\n",
    "ndf1.T.fillna(method = 'ffill',inplace=True)\n",
    "ndf1.T.fillna(method = 'bfill',inplace=True)\n",
    "\n",
    "# 널값 채운 후 다시 '기간'칼럼 붙여주기\n",
    "ndf1['기간'] = ndf['기간']\n",
    "\n",
    "# 기간이 0인 데이터들 소거\n",
    "# 기간이 0이면 1년치의 데이터밖에 없기 때문에 성장률을 알 수가 없기 때문\n",
    "# 연매출액 데이터가 하나뿐임\n",
    "ndf1 = ndf1[ndf1['기간'] != 0]\n",
    "\n",
    "# 연평균 성장률 계산 후, 유니콘 데이터 기준 min()값인 -28.54 미만의 데이터 소거\n",
    "ndf1['연평균 성장률(%)'] = round(((ndf1['2019']/ndf1['2015'])**(1/ndf1['기간'])-1)*100, 2)\n",
    "ndf1 = ndf1[ndf1['연평균 성장률(%)'] >= -28.54]\n",
    "\n",
    "# 유니콘 데이터 기준 연매출액 min() 값인 99100 미만 데이터 소거\n",
    "ndf1 = ndf1.loc[(ndf1['2015'] >= 99100) & (ndf1['2016'] >= 99100) & (ndf1['2017'] >= 99100) & (ndf1['2018'] >= 99100) & (ndf1['2019'] >= 99100)]\n",
    "\n",
    "# 1년씩 성장률 계산\n",
    "ndf1['15-16년 성장률'] = round(((ndf1['2016']-ndf1['2015'])/ndf1['2015'])*100, 1)\n",
    "ndf1['16-17년 성장률'] = round(((ndf1['2017']-ndf1['2016'])/ndf1['2016'])*100, 1)\n",
    "ndf1['17-18년 성장률'] = round(((ndf1['2018']-ndf1['2017'])/ndf1['2017'])*100, 1)\n",
    "ndf1['18-19년 성장률'] = round(((ndf1['2019']-ndf1['2018'])/ndf1['2018'])*100, 1)\n",
    "\n",
    "# 계산된 성장률의 max()값으로 해당기간 성장률 최고치 계산\n",
    "ndf1['성장률 최고치']=0.0\n",
    "for i in range(len(ndf1)):\n",
    "    ndf1['성장률 최고치'][i]=max(ndf1['15-16년 성장률'][i],ndf1['16-17년 성장률'][i],ndf1['17-18년 성장률'][i],ndf1['18-19년 성장률'][i])\n",
    "    \n",
    "# 유니콘 데이터 기준 성장률 최고치 min() 값인 39.2% 미만 데이터 소거\n",
    "ndf1 = ndf1.loc[ndf1['성장률 최고치']>=39.2]\n",
    "ndf1 # 최종 데이터가 5000개에서 768개로 줄어든 것을 알 수 있다.\n",
    "\n",
    "# 연평균 성장률 TOP500 구하기\n",
    "연매출액성장률TOP500 = ndf1['연평균 성장률(%)'].sort_values(ascending=False).head(500)"
   ]
  },
  {
   "cell_type": "markdown",
   "metadata": {},
   "source": [
    "### 분석결과 TOP 50 데이터추출"
   ]
  },
  {
   "cell_type": "code",
   "execution_count": 168,
   "metadata": {
    "scrolled": false
   },
   "outputs": [
    {
     "data": {
      "text/plain": [
       "회사ID\n",
       "419945    8.353127e+09\n",
       "227415    5.241049e+09\n",
       "227414    4.459102e+09\n",
       "419977    4.252086e+09\n",
       "294649    3.833816e+09\n",
       "              ...     \n",
       "311556    1.415003e+07\n",
       "129895    1.414430e+07\n",
       "165163    1.407167e+07\n",
       "305949    1.406817e+07\n",
       "427685    1.405150e+07\n",
       "Name: 평균연매출액, Length: 500, dtype: float64"
      ]
     },
     "metadata": {},
     "output_type": "display_data"
    },
    {
     "data": {
      "text/plain": [
       "회사ID\n",
       "177997    1451.48\n",
       "237193     979.16\n",
       "413403     834.29\n",
       "432907     727.52\n",
       "206055     700.00\n",
       "           ...   \n",
       "241762      24.73\n",
       "396114      24.50\n",
       "304307      24.47\n",
       "140535      24.41\n",
       "235776      24.39\n",
       "Name: 연평균 성장률(%), Length: 500, dtype: float64"
      ]
     },
     "metadata": {},
     "output_type": "display_data"
    }
   ],
   "source": [
    "display(평균연매출액TOP500, 연매출액성장률TOP500)\n",
    "평균연매출액TOP500.to_excel('평균연매출액500.xlsx',encoding='ansi')\n",
    "연매출액성장률TOP500.to_excel('연매출액성장률500.xlsx',encoding='ansi')\n",
    "일인당연매출액성장률TOP500.to_excel('일인당연매출액성장률TOP500.xlsx',encoding='ansi')"
   ]
  },
  {
   "cell_type": "code",
   "execution_count": 156,
   "metadata": {
    "scrolled": true
   },
   "outputs": [
    {
     "data": {
      "text/plain": [
       "<matplotlib.axes._subplots.AxesSubplot at 0x1cba9d9d708>"
      ]
     },
     "execution_count": 156,
     "metadata": {},
     "output_type": "execute_result"
    },
    {
     "data": {
      "image/png": "[encoded data removed]",
      "text/plain": [
       "<Figure size 1440x720 with 1 Axes>"
      ]
     },
     "metadata": {
      "needs_background": "light"
     },
     "output_type": "display_data"
    }
   ],
   "source": [
    "일인당연매출액성장률TOP50.head(10).plot(kind='bar',figsize=(20,10))"
   ]
  },
  {
   "cell_type": "markdown",
   "metadata": {},
   "source": [
    "# 2. 일인당 연매출액(한사람당 매출액에 얼마만큼 기여하는지) 관련 Feature 분석(이해강)\n",
    "- 1) 기업별 일인당 연매출액 성장률 TOP50"
   ]
  },
  {
   "cell_type": "code",
   "execution_count": 163,
   "metadata": {},
   "outputs": [],
   "source": [
    "# 데이터 불러오기\n",
    "df = pd.read_csv('company_nps_data.csv',encoding='ansi')\n",
    "\n",
    "# 일인당 매출액 컬럼 생성\n",
    "df['일인당 매출액'] = round(df['연매출액']/df['월별_직원수'], 2)\n",
    "\n",
    "# 회사ID와 년도별로 묶어 일인당 매출액의 연평균을 구하기\n",
    "ndf = df.groupby(['회사ID','년도']).mean()\n",
    "\n",
    "# 필요한 칼럼들만 추출\n",
    "ndf.drop(['연매출액','월','월별_연금보험료','월별_직원수'],axis=1,inplace=True)\n",
    "\n",
    "# 시계열로 나타낼 수 있게 피벗테이블 생성\n",
    "ndf1 = ndf.pivot_table('일인당 매출액','회사ID','년도')\n",
    "ndf1.index = ndf1.index.map(lambda x : str(x))\n",
    "ndf1.columns = ndf1.columns.map(lambda x : str(x))\n",
    "\n",
    "# '기간'이라는 칼럼 생성 후 임의의 값 부여\n",
    "ndf1['기간'] = 0\n",
    "\n",
    "# 한 행씩 접근하며 널값이 아닌 데이터들의 개수를 세서 '기간' 칼럼에 저장\n",
    "for i in range(len(ndf1)):\n",
    "    ndf1['기간'][i] = ndf1.iloc[i].notnull().sum()\n",
    "    \n",
    "# 그 후 2를 빼줌( \"notnull()로 세어진'기간'칼럼\" 과 \"두 연도의 차이\" )    \n",
    "ndf1['기간']=ndf1['기간']-2\n",
    "\n",
    "# '기간' 칼럼 제외한 새로운 데이터프레임으로 복사 (연도의 널값을 채워주기 위해) \n",
    "ndf2 = ndf1[['2015','2016','2017','2018','2019']]\n",
    "\n",
    "# 계산의 편의상 시작값(2015로)과 종료값(2019로)을 맞춰주기 위해 널값 채우기\n",
    "ndf2.T.fillna(method = 'ffill',inplace=True)\n",
    "ndf2.T.fillna(method = 'bfill',inplace=True)\n",
    "\n",
    "# 널값 채운 후 다시 '기간'칼럼 붙여주기\n",
    "ndf2['기간'] = ndf1['기간']\n",
    "\n",
    "# 기간이 0인 데이터 소거\n",
    "ndf2 = ndf2[ndf2['기간'] != 0]\n",
    "\n",
    "# 일인당 매출액의 '연평균 성장률' 컬럼 생성\n",
    "ndf2['연평균 성장률(%)'] = round(((ndf2['2019']/ndf2['2015'])**(1/ndf2['기간'])-1)*100, 2)\n",
    "\n",
    "# 유니콘 데이터 기준 '연평균 성장률' ''-44.66% 미만' 데이터 소거\n",
    "ndf2 = ndf2[ndf2['연평균 성장률(%)'] >= -44.66]\n",
    "\n",
    "# 유니콘 데이터 기준 '일인당 연매출' '3604.83 미만' 데이터 소거\n",
    "ndf2 = ndf2.loc[(ndf2['2015'] >= 3604.83) & (ndf2['2016'] >= 3604.83) & (ndf2['2017'] >= 3604.83) & (ndf2['2018'] >= 3604.83) & (ndf2['2019'] >= 3604.83)]\n",
    "\n",
    "# 일인당 매출액의 '작년 대비 성장률' 컬럼 4개 생성\n",
    "ndf2['15-16년 성장률'] = round(((ndf2['2016']-ndf2['2015'])/ndf2['2015'])*100, 1)\n",
    "ndf2['16-17년 성장률'] = round(((ndf2['2017']-ndf2['2016'])/ndf2['2016'])*100, 1)\n",
    "ndf2['17-18년 성장률'] = round(((ndf2['2018']-ndf2['2017'])/ndf2['2017'])*100, 1)\n",
    "ndf2['18-19년 성장률'] = round(((ndf2['2019']-ndf2['2018'])/ndf2['2018'])*100, 1)\n",
    "\n",
    "# 일인당 매출액의 '성장률 최고치' 컬럼 생성\n",
    "ndf2['성장률 최고치']=0.0\n",
    "for i in range(len(ndf2)):\n",
    "    ndf2['성장률 최고치'][i]=max(ndf2['15-16년 성장률'][i],ndf2['16-17년 성장률'][i],ndf2['17-18년 성장률'][i],ndf2['18-19년 성장률'][i])\n",
    "\n",
    "# 유니콘 데이터 기준 '성장률 최고치'가 23.2% 미만인 데이터 소거\n",
    "ndf2 = ndf2.loc[ndf2['성장률 최고치']>=23.2]\n",
    "\n",
    "# 직원수가 0인 컬럼이 있어서, 연매출액을 나눠준뒤 inf값이 생김. 그것을 처리\n",
    "ndf2 = ndf2.replace(np.inf,np.nan).dropna(axis=0)\n",
    "\n",
    "# 최종 데이터가 5000개에서 1151개로 줄어든 것을 알 수 있다.\n",
    "ndf2\n",
    "\n",
    "# 일인당 연매출액 연평균 성장률 TOP500 추출\n",
    "일인당연매출액성장률TOP500 = ndf2['연평균 성장률(%)'].sort_values(ascending=False).head(500)"
   ]
  },
  {
   "cell_type": "markdown",
   "metadata": {},
   "source": [
    "### 분석결과 TOP 50 데이터추출"
   ]
  },
  {
   "cell_type": "code",
   "execution_count": 167,
   "metadata": {},
   "outputs": [
    {
     "name": "stdout",
     "output_type": "stream",
     "text": [
      "회사ID\n",
      "417469    5646.83\n",
      "177997    1377.14\n",
      "413403    1103.88\n",
      "246630    1002.49\n",
      "470208     936.55\n",
      "432907     635.00\n",
      "359487     589.48\n",
      "237193     508.90\n",
      "475113     493.66\n",
      "172962     439.04\n",
      "Name: 연평균 성장률(%), dtype: float64\n"
     ]
    }
   ],
   "source": [
    "print(일인당연매출액성장률TOP500.head(10))"
   ]
  },
  {
   "cell_type": "code",
   "execution_count": null,
   "metadata": {},
   "outputs": [],
   "source": []
  }
 ],
 "metadata": {
  "kernelspec": {
   "display_name": "Python 3",
   "language": "python",
   "name": "python3"
  },
  "language_info": {
   "codemirror_mode": {
    "name": "ipython",
    "version": 3
   },
   "file_extension": ".py",
   "mimetype": "text/x-python",
   "name": "python",
   "nbconvert_exporter": "python",
   "pygments_lexer": "ipython3",
   "version": "3.7.6"
  }
 },
 "nbformat": 4,
 "nbformat_minor": 4
}
